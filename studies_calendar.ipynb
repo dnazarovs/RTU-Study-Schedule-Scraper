{
 "cells": [
  {
   "cell_type": "markdown",
   "metadata": {},
   "source": [
    "# Scrapper for the studies calendar (ics file) RTU"
   ]
  },
  {
   "cell_type": "code",
   "execution_count": 9,
   "metadata": {},
   "outputs": [],
   "source": [
    "from selenium import webdriver\n",
    "from selenium.webdriver.common.by import By\n",
    "from selenium.webdriver.support.ui import Select\n",
    "from icalendar import Calendar, Event, vDatetime, vText\n",
    "from datetime import datetime\n",
    "import arrow, uuid, pytz, time"
   ]
  },
  {
   "cell_type": "markdown",
   "metadata": {},
   "source": [
    "## Selecting right course"
   ]
  },
  {
   "cell_type": "code",
   "execution_count": 3,
   "metadata": {},
   "outputs": [],
   "source": [
    "driver = webdriver.Chrome()\n",
    "driver.get('https://nodarbibas.rtu.lv')\n",
    "\n",
    "study_period_select = Select(driver.find_element(By.ID, 'semester-id'))\n",
    "study_period_select.select_by_visible_text('2023/2024 Rudens semestris (23/24-R)') # Jūsu studiju periods\n",
    "\n",
    "time.sleep(2)\n",
    "\n",
    "faculty_program_select = Select(driver.find_element(By.ID, 'program-id'))\n",
    "faculty_program_select.select_by_visible_text('Datorsistēmas (RDBD0)') # Jūsu fakultāte un programma\n",
    "\n",
    "time.sleep(2)\n",
    "\n",
    "course_select = Select(driver.find_element(By.ID, 'course-id'))\n",
    "course_select.select_by_index(3) # Jūsu kurss (1. kurss ir 1, 2. kurss ir 2, utt.)\n",
    "\n",
    "group_select = Select(driver.find_element(By.ID, 'group-id'))\n",
    "group_select.select_by_index(2) # Jūsu grupa (atveriet lapu un paskatieties, kāds ir Jūsu grupas indekss)\n"
   ]
  },
  {
   "cell_type": "markdown",
   "metadata": {},
   "source": [
    "## Select first 14 days of our calendar with date time and title"
   ]
  },
  {
   "cell_type": "code",
   "execution_count": 4,
   "metadata": {},
   "outputs": [],
   "source": [
    "# Cerēsimm ka viņi neaminīs elementus, jo tad šis viss nestrādās\n",
    "day_cells = driver.find_elements(By.CLASS_NAME, \"fc-daygrid-day\")\n",
    "\n",
    "events_dict = {}\n",
    "\n",
    "days_with_classes_counted = 0\n",
    "\n",
    "for day_cell in day_cells:\n",
    "    if days_with_classes_counted >= 14:\n",
    "        break\n",
    "\n",
    "    date_str = day_cell.get_attribute('data-date')\n",
    "    \n",
    "    if date_str:\n",
    "        events_list = []\n",
    "        \n",
    "        events = day_cell.find_elements(By.CLASS_NAME, \"fc-daygrid-event\")\n",
    "        days_with_classes_counted += 1\n",
    "\n",
    "        if events:\n",
    "\n",
    "            for event in events:\n",
    "                event_time_str = event.find_element(By.CLASS_NAME, \"fc-event-time\").text\n",
    "                start_time, end_time = event_time_str.split(\" - \")\n",
    "                event_title = event.find_element(By.CLASS_NAME, \"fc-event-title\").text\n",
    "                \n",
    "                events_list.append({\n",
    "                    'start_time': f\"{start_time}\",\n",
    "                    'end_time': f\"{end_time}\",\n",
    "                    'title': event_title\n",
    "                })\n",
    "            \n",
    "            events_dict[date_str] = events_list\n"
   ]
  },
  {
   "cell_type": "code",
   "execution_count": 5,
   "metadata": {},
   "outputs": [],
   "source": [
    "driver.close()"
   ]
  },
  {
   "cell_type": "markdown",
   "metadata": {},
   "source": [
    "## Creating ics file"
   ]
  },
  {
   "cell_type": "code",
   "execution_count": 11,
   "metadata": {},
   "outputs": [],
   "source": [
    "cal = Calendar()\n",
    "cal.add('version', '2.0')\n",
    "cal.add('prodid', '-//RTU//STUDIES//1')\n",
    "\n",
    "end_repeat_date = arrow.get(\"2023-12-24\", \"YYYY-MM-DD\")\n",
    "\n",
    "riga_tz = pytz.timezone('Europe/Riga')\n",
    "\n",
    "for date_str, events in events_dict.items():\n",
    "    for event_info in events:\n",
    "        e = Event()\n",
    "        e.add('uid', str(uuid.uuid4())) \n",
    "        e.add('dtstamp', datetime.now(tz=riga_tz))\n",
    "\n",
    "        start_date_time = arrow.get(f\"{date_str} {event_info['start_time']}\", \"YYYY-MM-DD HH:mm\").replace(tzinfo=riga_tz).datetime\n",
    "        end_date_time = arrow.get(f\"{date_str} {event_info['end_time']}\", \"YYYY-MM-DD HH:mm\").replace(tzinfo=riga_tz).datetime\n",
    "\n",
    "        e.add('summary', event_info['title'])\n",
    "        e.add('dtstart', start_date_time)\n",
    "        e.add('dtend', end_date_time)\n",
    "        e.add('rrule', {'freq': 'weekly', 'interval': 2, 'until': end_repeat_date.datetime})\n",
    "        cal.add_component(e)\n",
    "\n",
    "with open('studijas_rudens_23_24.ics', 'wb') as my_file:\n",
    "    my_file.write(cal.to_ical())\n"
   ]
  }
 ],
 "metadata": {
  "kernelspec": {
   "display_name": "Python 3",
   "language": "python",
   "name": "python3"
  },
  "language_info": {
   "codemirror_mode": {
    "name": "ipython",
    "version": 3
   },
   "file_extension": ".py",
   "mimetype": "text/x-python",
   "name": "python",
   "nbconvert_exporter": "python",
   "pygments_lexer": "ipython3",
   "version": "3.11.3"
  },
  "orig_nbformat": 4
 },
 "nbformat": 4,
 "nbformat_minor": 2
}
